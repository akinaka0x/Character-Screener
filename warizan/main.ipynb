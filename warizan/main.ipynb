{
 "cells": [
  {
   "cell_type": "code",
   "execution_count": null,
   "metadata": {
    "collapsed": true
   },
   "outputs": [],
   "source": [
    "import numpy as np\n",
    "from matplotlib import pyplot as plt\n",
    "from scipy import misc\n",
    "import os\n",
    "\n",
    "def count_file(path):\n",
    "    files = os.listdir(path)\n",
    "    return len(files)"
   ]
  },
  {
   "cell_type": "code",
   "execution_count": null,
   "metadata": {
    "collapsed": false,
    "scrolled": true
   },
   "outputs": [
    {
     "name": "stdout",
     "output_type": "stream",
     "text": [
      "\n",
      "\n"
     ]
    }
   ],
   "source": [
    "images = np.load(\"images.npz\")[\"images\"]\n",
    "images_out = []\n",
    "ignored_idx = count_file(\"./ignored/\")\n",
    "output_idx = count_file(\"./output/\")\n",
    "for image in images:\n",
    "    plt.imshow(image.reshape([28, 28]), cmap=plt.cm.gray, interpolation=\"nearest\")\n",
    "    plt.show()\n",
    "    s = input()\n",
    "    if s == \"\":\n",
    "        images_out.append(image)\n",
    "    else:\n",
    "        misc.toimage(image.reshape([28, 28])).save(\"ignored/{0}.png\".format(ignored_idx))\n",
    "        ignored_idx += 1\n",
    "        print(\"ignored\")\n",
    "\n",
    "print(\"################################\\n#########お疲れ様！終わったよ！########\\n################################\")\n",
    "np.savez_compressed(\"output/{0}.npz\".format(output_idx), images=np.array(images_out))"
   ]
  },
  {
   "cell_type": "code",
   "execution_count": null,
   "metadata": {
    "collapsed": true
   },
   "outputs": [],
   "source": []
  }
 ],
 "metadata": {
  "anaconda-cloud": {},
  "kernelspec": {
   "display_name": "Python [default]",
   "language": "python",
   "name": "python3"
  },
  "language_info": {
   "codemirror_mode": {
    "name": "ipython",
    "version": 3
   },
   "file_extension": ".py",
   "mimetype": "text/x-python",
   "name": "python",
   "nbconvert_exporter": "python",
   "pygments_lexer": "ipython3",
   "version": "3.5.2"
  }
 },
 "nbformat": 4,
 "nbformat_minor": 1
}
